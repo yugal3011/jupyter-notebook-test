{
  "metadata": {
    "kernelspec": {
      "name": "python",
      "display_name": "Python (Pyodide)",
      "language": "python"
    },
    "language_info": {
      "codemirror_mode": {
        "name": "python",
        "version": 3
      },
      "file_extension": ".py",
      "mimetype": "text/x-python",
      "name": "python",
      "nbconvert_exporter": "python",
      "pygments_lexer": "ipython3",
      "version": "3.8"
    }
  },
  "nbformat_minor": 5,
  "nbformat": 4,
  "cells": [
    {
      "id": "7e07cc41-2880-4aa6-92f3-fc7f3bb252c4",
      "cell_type": "code",
      "source": "import pandas as pd",
      "metadata": {
        "trusted": true
      },
      "outputs": [],
      "execution_count": 5
    },
    {
      "id": "d6e4c2b5-b6c5-4b89-8c5a-eb4a8ab915d7",
      "cell_type": "code",
      "source": "import os\nprint(os.getcwd())",
      "metadata": {
        "trusted": true
      },
      "outputs": [
        {
          "name": "stdout",
          "output_type": "stream",
          "text": "/drive/test\n"
        }
      ],
      "execution_count": 6
    },
    {
      "id": "f539a72a-bdda-41fd-8add-3918ebe275c6",
      "cell_type": "code",
      "source": "csv=pd.read_csv('/drive/test/transactions.csv')",
      "metadata": {
        "trusted": true
      },
      "outputs": [],
      "execution_count": 7
    },
    {
      "id": "9f856c64-e018-4a8f-b77b-e880cbe5a873",
      "cell_type": "code",
      "source": "csv",
      "metadata": {
        "trusted": true
      },
      "outputs": [
        {
          "execution_count": 8,
          "output_type": "execute_result",
          "data": {
            "text/plain": "   Transaction ID  Amount        Date\n0             101     500  01-02-2024\n1             102     700  02-02-2024\n2             103     900  03-02-2024",
            "text/html": "<div>\n<style scoped>\n    .dataframe tbody tr th:only-of-type {\n        vertical-align: middle;\n    }\n\n    .dataframe tbody tr th {\n        vertical-align: top;\n    }\n\n    .dataframe thead th {\n        text-align: right;\n    }\n</style>\n<table border=\"1\" class=\"dataframe\">\n  <thead>\n    <tr style=\"text-align: right;\">\n      <th></th>\n      <th>Transaction ID</th>\n      <th>Amount</th>\n      <th>Date</th>\n    </tr>\n  </thead>\n  <tbody>\n    <tr>\n      <th>0</th>\n      <td>101</td>\n      <td>500</td>\n      <td>01-02-2024</td>\n    </tr>\n    <tr>\n      <th>1</th>\n      <td>102</td>\n      <td>700</td>\n      <td>02-02-2024</td>\n    </tr>\n    <tr>\n      <th>2</th>\n      <td>103</td>\n      <td>900</td>\n      <td>03-02-2024</td>\n    </tr>\n  </tbody>\n</table>\n</div>"
          },
          "metadata": {}
        }
      ],
      "execution_count": 8
    },
    {
      "id": "f423c13b-c160-44ba-a244-a6748f0ac9dd",
      "cell_type": "code",
      "source": "csv1=pd.read_csv('/drive/test/transactions_1.csv')",
      "metadata": {
        "trusted": true
      },
      "outputs": [],
      "execution_count": 9
    },
    {
      "id": "456dedbc-9464-450a-8fff-3ad5e788fcaf",
      "cell_type": "code",
      "source": "csv1",
      "metadata": {
        "trusted": true
      },
      "outputs": [
        {
          "execution_count": 10,
          "output_type": "execute_result",
          "data": {
            "text/plain": "   Transaction ID  Amount        Date\n0             101     500  01-02-2024\n1             102     800  02-02-2024\n2             104     600  04-02-2024",
            "text/html": "<div>\n<style scoped>\n    .dataframe tbody tr th:only-of-type {\n        vertical-align: middle;\n    }\n\n    .dataframe tbody tr th {\n        vertical-align: top;\n    }\n\n    .dataframe thead th {\n        text-align: right;\n    }\n</style>\n<table border=\"1\" class=\"dataframe\">\n  <thead>\n    <tr style=\"text-align: right;\">\n      <th></th>\n      <th>Transaction ID</th>\n      <th>Amount</th>\n      <th>Date</th>\n    </tr>\n  </thead>\n  <tbody>\n    <tr>\n      <th>0</th>\n      <td>101</td>\n      <td>500</td>\n      <td>01-02-2024</td>\n    </tr>\n    <tr>\n      <th>1</th>\n      <td>102</td>\n      <td>800</td>\n      <td>02-02-2024</td>\n    </tr>\n    <tr>\n      <th>2</th>\n      <td>104</td>\n      <td>600</td>\n      <td>04-02-2024</td>\n    </tr>\n  </tbody>\n</table>\n</div>"
          },
          "metadata": {}
        }
      ],
      "execution_count": 10
    },
    {
      "id": "2e11ce57-4d15-4da3-8d79-284bcb47d769",
      "cell_type": "code",
      "source": "import pandas as pd\n\ndef reconciliation_report(file1, file2):\n    \"\"\"Compares two transaction files and generates a reconciliation report.\"\"\"\n    try:\n        df1, df2 = (pd.read_csv(file).set_index('Transaction ID') for file in [file1, file2])\n        \n        # Merges the datasets to find missing and mismatched transactions\n        merged_df = pd.merge(df1, df2, on='Transaction ID', how='outer', suffixes=('_File1', '_File2'), indicator=True)\n        \n        missing_in_file2 = merged_df.query(\"_merge == 'left_only'\").drop(columns=['_merge']).assign(Status='Missing in File 2')\n        missing_in_file1 = merged_df.query(\"_merge == 'right_only'\").drop(columns=['_merge']).assign(Status='Missing in File 1')\n        \n        mismatched_df = pd.DataFrame([\n            {'Transaction ID': tid, 'File 1 Data': df1.loc[tid].to_dict(), 'File 2 Data': df2.loc[tid].to_dict(), 'Status': 'Mismatch'}\n            for tid in df1.index.intersection(df2.index) if not df1.loc[tid].equals(df2.loc[tid])\n        ]).set_index('Transaction ID') if not df1.empty and not df2.empty else pd.DataFrame()\n\n        report = pd.concat([missing_in_file2, missing_in_file1, mismatched_df], sort=False)\n        return report if not report.empty else \"No differences found.\"\n\n    except FileNotFoundError as e:\n        return f\"Error: {e}\"\n    except Exception as e:\n        return f\"An error occurred: {e}\"\n\nfile1_path, file2_path = 'transactions.csv', 'transactions_1.csv'\n\nprint(\"Reconciliation Report:\")\nprint(reconciliation_report(file1_path, file2_path))\n",
      "metadata": {
        "trusted": true
      },
      "outputs": [
        {
          "name": "stdout",
          "output_type": "stream",
          "text": "Reconciliation Report:\n                Amount_File1  Date_File1  Amount_File2  Date_File2  \\\nTransaction ID                                                       \n103                    900.0  03-02-2024           NaN         NaN   \n104                      NaN         NaN         600.0  04-02-2024   \n102                      NaN         NaN           NaN         NaN   \n\n                           Status                            File 1 Data  \\\nTransaction ID                                                             \n103             Missing in File 2                                    NaN   \n104             Missing in File 1                                    NaN   \n102                      Mismatch  {'Amount': 700, 'Date': '02-02-2024'}   \n\n                                          File 2 Data  \nTransaction ID                                         \n103                                               NaN  \n104                                               NaN  \n102             {'Amount': 800, 'Date': '02-02-2024'}  \n"
        }
      ],
      "execution_count": 11
    },
    {
      "id": "7009b133-afb9-4f80-90e4-59c0d2acee40",
      "cell_type": "code",
      "source": "import pandas as pd\n\ndef reconcile_transactions(file_path_a, file_path_b):\n    \"\"\"\n    Compare two Excel files based on 'Transaction ID' and identify discrepancies.\n    Returns:\n    tuple: (missing_in_a, missing_in_b, mismatched_amounts)\n    \"\"\"\n    df_a = pd.read_csv(file_path_a)\n    df_b = pd.read_csv(file_path_b)\n\n    merged_df = df_a.merge(df_b, on=\"Transaction ID\", how=\"outer\", suffixes=('_A', '_B'))\n    \n    missing_in_a = merged_df[merged_df[\"Amount_A\"].isna()].drop(columns=[\"Amount_A\", \"Date_A\"])\n    missing_in_b = merged_df[merged_df[\"Amount_B\"].isna()].drop(columns=[\"Amount_B\", \"Date_B\"])\n    \n    mismatched_amounts = merged_df.dropna(subset=[\"Amount_A\", \"Amount_B\"])\n    mismatched_amounts = mismatched_amounts[mismatched_amounts[\"Amount_A\"] != mismatched_amounts[\"Amount_B\"]]\n    \n    return missing_in_a, missing_in_b, mismatched_amounts\n\nfile_path_a = ('/drive/test/transactions.csv')\nfile_path_b = ('/drive/test/transactions_1.csv')\n\nmissing_in_a, missing_in_b, mismatched_amounts = reconcile_transactions(file_path_a, file_path_b)\n\nprint(\"Missing in A:\")\nprint(missing_in_a)\n\nprint(\"\\nMissing in B:\")\nprint(missing_in_b)\n\nprint(\"\\nMismatched Amounts:\")\nprint(mismatched_amounts)\n",
      "metadata": {
        "trusted": true
      },
      "outputs": [
        {
          "name": "stdout",
          "output_type": "stream",
          "text": "Missing in A:\n   Transaction ID  Amount_B      Date_B\n3             104     600.0  04-02-2024\n\nMissing in B:\n   Transaction ID  Amount_A      Date_A\n2             103     900.0  03-02-2024\n\nMismatched Amounts:\n   Transaction ID  Amount_A      Date_A  Amount_B      Date_B\n1             102     700.0  02-02-2024     800.0  02-02-2024\n"
        }
      ],
      "execution_count": 12
    }
  ]
}